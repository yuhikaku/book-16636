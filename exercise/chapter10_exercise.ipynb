{
 "cells": [
  {
   "cell_type": "markdown",
   "id": "72926aea-4326-4b2e-94e2-24414d2b31f4",
   "metadata": {},
   "source": [
    "# 問1\n",
    "\n",
    "顧客データが650人分あり、Age(年齢)、Browsing(1日のネット閲覧時間)、PurchaseBefore(これまでのデザインのときの購入額)、PurchaseAfter(新しいデザインのときの購入額)が確認できます。\n",
    "\n",
    "また、ネット閲覧時間の平均は12.4時間、中央値は12時間、最短時間は0時間、最長時間は23時間になっています。\n"
   ]
  },
  {
   "cell_type": "code",
   "execution_count": 2,
   "id": "f997f920-dd1e-4553-92c4-ec2f980fcfa5",
   "metadata": {},
   "outputs": [
    {
     "data": {
      "text/html": [
       "<div>\n",
       "<style scoped>\n",
       "    .dataframe tbody tr th:only-of-type {\n",
       "        vertical-align: middle;\n",
       "    }\n",
       "\n",
       "    .dataframe tbody tr th {\n",
       "        vertical-align: top;\n",
       "    }\n",
       "\n",
       "    .dataframe thead th {\n",
       "        text-align: right;\n",
       "    }\n",
       "</style>\n",
       "<table border=\"1\" class=\"dataframe\">\n",
       "  <thead>\n",
       "    <tr style=\"text-align: right;\">\n",
       "      <th></th>\n",
       "      <th>ID</th>\n",
       "      <th>Treatment</th>\n",
       "      <th>Age</th>\n",
       "      <th>Browsing</th>\n",
       "      <th>PurchaseBefore</th>\n",
       "      <th>PurchaseAfter</th>\n",
       "    </tr>\n",
       "  </thead>\n",
       "  <tbody>\n",
       "    <tr>\n",
       "      <th>count</th>\n",
       "      <td>650.00000</td>\n",
       "      <td>650.000000</td>\n",
       "      <td>650.000000</td>\n",
       "      <td>650.000000</td>\n",
       "      <td>650.000000</td>\n",
       "      <td>650.000000</td>\n",
       "    </tr>\n",
       "    <tr>\n",
       "      <th>mean</th>\n",
       "      <td>324.50000</td>\n",
       "      <td>0.503077</td>\n",
       "      <td>34.350769</td>\n",
       "      <td>12.449231</td>\n",
       "      <td>5221.770749</td>\n",
       "      <td>6987.750172</td>\n",
       "    </tr>\n",
       "    <tr>\n",
       "      <th>std</th>\n",
       "      <td>187.78312</td>\n",
       "      <td>0.500376</td>\n",
       "      <td>6.181391</td>\n",
       "      <td>3.221371</td>\n",
       "      <td>310.430609</td>\n",
       "      <td>348.734081</td>\n",
       "    </tr>\n",
       "    <tr>\n",
       "      <th>min</th>\n",
       "      <td>0.00000</td>\n",
       "      <td>0.000000</td>\n",
       "      <td>19.000000</td>\n",
       "      <td>0.000000</td>\n",
       "      <td>4152.062696</td>\n",
       "      <td>5873.865757</td>\n",
       "    </tr>\n",
       "    <tr>\n",
       "      <th>25%</th>\n",
       "      <td>162.25000</td>\n",
       "      <td>0.000000</td>\n",
       "      <td>30.000000</td>\n",
       "      <td>10.000000</td>\n",
       "      <td>5017.023951</td>\n",
       "      <td>6754.270489</td>\n",
       "    </tr>\n",
       "    <tr>\n",
       "      <th>50%</th>\n",
       "      <td>324.50000</td>\n",
       "      <td>1.000000</td>\n",
       "      <td>34.000000</td>\n",
       "      <td>12.000000</td>\n",
       "      <td>5219.194458</td>\n",
       "      <td>6975.028874</td>\n",
       "    </tr>\n",
       "    <tr>\n",
       "      <th>75%</th>\n",
       "      <td>486.75000</td>\n",
       "      <td>1.000000</td>\n",
       "      <td>38.000000</td>\n",
       "      <td>15.000000</td>\n",
       "      <td>5415.820893</td>\n",
       "      <td>7223.487390</td>\n",
       "    </tr>\n",
       "    <tr>\n",
       "      <th>max</th>\n",
       "      <td>649.00000</td>\n",
       "      <td>1.000000</td>\n",
       "      <td>52.000000</td>\n",
       "      <td>23.000000</td>\n",
       "      <td>6231.381897</td>\n",
       "      <td>8070.469098</td>\n",
       "    </tr>\n",
       "  </tbody>\n",
       "</table>\n",
       "</div>"
      ],
      "text/plain": [
       "              ID   Treatment         Age    Browsing  PurchaseBefore  \\\n",
       "count  650.00000  650.000000  650.000000  650.000000      650.000000   \n",
       "mean   324.50000    0.503077   34.350769   12.449231     5221.770749   \n",
       "std    187.78312    0.500376    6.181391    3.221371      310.430609   \n",
       "min      0.00000    0.000000   19.000000    0.000000     4152.062696   \n",
       "25%    162.25000    0.000000   30.000000   10.000000     5017.023951   \n",
       "50%    324.50000    1.000000   34.000000   12.000000     5219.194458   \n",
       "75%    486.75000    1.000000   38.000000   15.000000     5415.820893   \n",
       "max    649.00000    1.000000   52.000000   23.000000     6231.381897   \n",
       "\n",
       "       PurchaseAfter  \n",
       "count     650.000000  \n",
       "mean     6987.750172  \n",
       "std       348.734081  \n",
       "min      5873.865757  \n",
       "25%      6754.270489  \n",
       "50%      6975.028874  \n",
       "75%      7223.487390  \n",
       "max      8070.469098  "
      ]
     },
     "execution_count": 2,
     "metadata": {},
     "output_type": "execute_result"
    }
   ],
   "source": [
    "import pandas as pd\n",
    "import seaborn as sns\n",
    "\n",
    "df = pd.read_excel(\"data/chapter10_exercise.xlsx\")\n",
    "df.describe()"
   ]
  },
  {
   "cell_type": "markdown",
   "id": "2f9a6de1-cc4f-44fb-89c9-d4b10841c70c",
   "metadata": {},
   "source": [
    "# 問2\n",
    "\n",
    "傾向スコアを求めた後、ヒストグラムを描くと次のようになります。重なっている部分が見られ、うまくマッチングできそうです。"
   ]
  },
  {
   "cell_type": "code",
   "execution_count": 4,
   "id": "c65dad1a-6dca-4fce-b832-1ca2c67a3f08",
   "metadata": {},
   "outputs": [
    {
     "data": {
      "text/html": [
       "<div>\n",
       "<style scoped>\n",
       "    .dataframe tbody tr th:only-of-type {\n",
       "        vertical-align: middle;\n",
       "    }\n",
       "\n",
       "    .dataframe tbody tr th {\n",
       "        vertical-align: top;\n",
       "    }\n",
       "\n",
       "    .dataframe thead th {\n",
       "        text-align: right;\n",
       "    }\n",
       "</style>\n",
       "<table border=\"1\" class=\"dataframe\">\n",
       "  <thead>\n",
       "    <tr style=\"text-align: right;\">\n",
       "      <th></th>\n",
       "      <th>ID</th>\n",
       "      <th>Treatment</th>\n",
       "      <th>Age</th>\n",
       "      <th>Browsing</th>\n",
       "      <th>PurchaseBefore</th>\n",
       "      <th>PurchaseAfter</th>\n",
       "      <th>prop</th>\n",
       "    </tr>\n",
       "  </thead>\n",
       "  <tbody>\n",
       "    <tr>\n",
       "      <th>0</th>\n",
       "      <td>0</td>\n",
       "      <td>0</td>\n",
       "      <td>20</td>\n",
       "      <td>9</td>\n",
       "      <td>4652.128871</td>\n",
       "      <td>6530.572189</td>\n",
       "      <td>0.067054</td>\n",
       "    </tr>\n",
       "    <tr>\n",
       "      <th>1</th>\n",
       "      <td>1</td>\n",
       "      <td>1</td>\n",
       "      <td>30</td>\n",
       "      <td>16</td>\n",
       "      <td>5901.004582</td>\n",
       "      <td>7663.804536</td>\n",
       "      <td>0.717369</td>\n",
       "    </tr>\n",
       "    <tr>\n",
       "      <th>2</th>\n",
       "      <td>2</td>\n",
       "      <td>0</td>\n",
       "      <td>36</td>\n",
       "      <td>12</td>\n",
       "      <td>5414.933172</td>\n",
       "      <td>7397.363048</td>\n",
       "      <td>0.497304</td>\n",
       "    </tr>\n",
       "    <tr>\n",
       "      <th>3</th>\n",
       "      <td>3</td>\n",
       "      <td>1</td>\n",
       "      <td>41</td>\n",
       "      <td>15</td>\n",
       "      <td>5246.673459</td>\n",
       "      <td>7116.532580</td>\n",
       "      <td>0.842569</td>\n",
       "    </tr>\n",
       "    <tr>\n",
       "      <th>4</th>\n",
       "      <td>4</td>\n",
       "      <td>1</td>\n",
       "      <td>35</td>\n",
       "      <td>11</td>\n",
       "      <td>5311.450888</td>\n",
       "      <td>6898.694394</td>\n",
       "      <td>0.380212</td>\n",
       "    </tr>\n",
       "  </tbody>\n",
       "</table>\n",
       "</div>"
      ],
      "text/plain": [
       "   ID  Treatment  Age  Browsing  PurchaseBefore  PurchaseAfter      prop\n",
       "0   0          0   20         9     4652.128871    6530.572189  0.067054\n",
       "1   1          1   30        16     5901.004582    7663.804536  0.717369\n",
       "2   2          0   36        12     5414.933172    7397.363048  0.497304\n",
       "3   3          1   41        15     5246.673459    7116.532580  0.842569\n",
       "4   4          1   35        11     5311.450888    6898.694394  0.380212"
      ]
     },
     "execution_count": 4,
     "metadata": {},
     "output_type": "execute_result"
    }
   ],
   "source": [
    "from sklearn.linear_model import LogisticRegression\n",
    "\n",
    "X = df[[\"Age\", \"Browsing\", \"PurchaseBefore\"]]\n",
    "y = df[\"Treatment\"]\n",
    "\n",
    "model = LogisticRegression()\n",
    "model.fit(X, y)\n",
    "\n",
    "prop_score = model.predict_proba(X)\n",
    "\n",
    "df[\"prop\"] = prop_score[:, 1]\n",
    "df.head()"
   ]
  },
  {
   "cell_type": "code",
   "execution_count": 5,
   "id": "4444c760-b748-4830-b808-cb74bd777e80",
   "metadata": {},
   "outputs": [
    {
     "data": {
      "text/plain": [
       "<Axes: xlabel='prop', ylabel='Count'>"
      ]
     },
     "execution_count": 5,
     "metadata": {},
     "output_type": "execute_result"
    },
    {
     "data": {
      "image/png": "[encoded data removed]",
      "text/plain": [
       "<Figure size 640x480 with 1 Axes>"
      ]
     },
     "metadata": {},
     "output_type": "display_data"
    }
   ],
   "source": [
    "sns.histplot(\n",
    "    data=df,\n",
    "    x=\"prop\",\n",
    "    hue=\"Treatment\"\n",
    ")"
   ]
  },
  {
   "cell_type": "markdown",
   "id": "e915661f-e744-4d4f-a2d0-0d605fea6c23",
   "metadata": {},
   "source": [
    "# 問3\n",
    "\n",
    "新しいデザインの顧客の購入額のほうが112円ほど高くなっています。デザインを変えることの効果がないとは言いませんが、もともとの購入額の平均が5000円強であることを考えると、その効果はあまり大きくないようです。"
   ]
  },
  {
   "cell_type": "code",
   "execution_count": 4,
   "id": "bf7906a8-6b8d-4c78-b8e9-baebd32841bd",
   "metadata": {},
   "outputs": [
    {
     "data": {
      "text/plain": [
       "111.68012704719584"
      ]
     },
     "execution_count": 4,
     "metadata": {},
     "output_type": "execute_result"
    }
   ],
   "source": [
    "df[\"group\"] = (df.prop * 20).astype(int)\n",
    "\n",
    "ps_match_a = (\n",
    "    df.groupby(\n",
    "        [\"group\", \"Treatment\"]\n",
    "    )[\"PurchaseAfter\"]\n",
    "    .mean()\n",
    "    .unstack(\"Treatment\")\n",
    ")\n",
    "\n",
    "ps_match_a.columns = [\"untreated\", \"treated\"]\n",
    "\n",
    "ps_match_a[\"difference\"] = ps_match_a.treated - ps_match_a.untreated\n",
    "ps_match_a.difference.mean()"
   ]
  }
 ],
 "metadata": {
  "kernelspec": {
   "display_name": "Python 3 (ipykernel)",
   "language": "python",
   "name": "python3"
  },
  "language_info": {
   "codemirror_mode": {
    "name": "ipython",
    "version": 3
   },
   "file_extension": ".py",
   "mimetype": "text/x-python",
   "name": "python",
   "nbconvert_exporter": "python",
   "pygments_lexer": "ipython3",
   "version": "3.11.1"
  }
 },
 "nbformat": 4,
 "nbformat_minor": 5
}
