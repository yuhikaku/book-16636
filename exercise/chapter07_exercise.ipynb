{
 "cells": [
  {
   "cell_type": "markdown",
   "id": "731a507c-c17f-4f74-9686-2eb793c999b8",
   "metadata": {},
   "source": [
    "# 問1\n",
    "\n",
    "47行あり、都道府県の数と一致します。"
   ]
  },
  {
   "cell_type": "code",
   "execution_count": 2,
   "id": "f3076b5a-3b55-46f3-a373-dcfa42471855",
   "metadata": {},
   "outputs": [
    {
     "data": {
      "text/html": [
       "<div>\n",
       "<style scoped>\n",
       "    .dataframe tbody tr th:only-of-type {\n",
       "        vertical-align: middle;\n",
       "    }\n",
       "\n",
       "    .dataframe tbody tr th {\n",
       "        vertical-align: top;\n",
       "    }\n",
       "\n",
       "    .dataframe thead th {\n",
       "        text-align: right;\n",
       "    }\n",
       "</style>\n",
       "<table border=\"1\" class=\"dataframe\">\n",
       "  <thead>\n",
       "    <tr style=\"text-align: right;\">\n",
       "      <th></th>\n",
       "      <th>世帯年間収入</th>\n",
       "      <th>合計特殊出生率</th>\n",
       "      <th>地方</th>\n",
       "      <th>都道府県</th>\n",
       "      <th>人口15歳未満比率</th>\n",
       "      <th>15～64歳比率</th>\n",
       "      <th>65歳以上比率</th>\n",
       "      <th>人口男女比率（20～39歳）</th>\n",
       "      <th>インターネット利用者の割合</th>\n",
       "    </tr>\n",
       "  </thead>\n",
       "  <tbody>\n",
       "    <tr>\n",
       "      <th>0</th>\n",
       "      <td>4488</td>\n",
       "      <td>1.19</td>\n",
       "      <td>0</td>\n",
       "      <td>北海道</td>\n",
       "      <td>0.107619</td>\n",
       "      <td>0.573714</td>\n",
       "      <td>0.318667</td>\n",
       "      <td>1.005929</td>\n",
       "      <td>88.4</td>\n",
       "    </tr>\n",
       "    <tr>\n",
       "      <th>1</th>\n",
       "      <td>4952</td>\n",
       "      <td>1.28</td>\n",
       "      <td>1</td>\n",
       "      <td>青森県</td>\n",
       "      <td>0.106742</td>\n",
       "      <td>0.560995</td>\n",
       "      <td>0.333066</td>\n",
       "      <td>1.066667</td>\n",
       "      <td>80.0</td>\n",
       "    </tr>\n",
       "    <tr>\n",
       "      <th>2</th>\n",
       "      <td>5282</td>\n",
       "      <td>1.39</td>\n",
       "      <td>1</td>\n",
       "      <td>岩手県</td>\n",
       "      <td>0.111654</td>\n",
       "      <td>0.557457</td>\n",
       "      <td>0.330888</td>\n",
       "      <td>1.076190</td>\n",
       "      <td>85.9</td>\n",
       "    </tr>\n",
       "    <tr>\n",
       "      <th>3</th>\n",
       "      <td>5702</td>\n",
       "      <td>1.27</td>\n",
       "      <td>1</td>\n",
       "      <td>宮城県</td>\n",
       "      <td>0.117953</td>\n",
       "      <td>0.599306</td>\n",
       "      <td>0.282741</td>\n",
       "      <td>1.056680</td>\n",
       "      <td>86.2</td>\n",
       "    </tr>\n",
       "    <tr>\n",
       "      <th>4</th>\n",
       "      <td>5274</td>\n",
       "      <td>1.31</td>\n",
       "      <td>1</td>\n",
       "      <td>秋田県</td>\n",
       "      <td>0.098344</td>\n",
       "      <td>0.530021</td>\n",
       "      <td>0.371636</td>\n",
       "      <td>1.068493</td>\n",
       "      <td>82.8</td>\n",
       "    </tr>\n",
       "  </tbody>\n",
       "</table>\n",
       "</div>"
      ],
      "text/plain": [
       "   世帯年間収入  合計特殊出生率  地方 都道府県  人口15歳未満比率  15～64歳比率   65歳以上比率  人口男女比率（20～39歳）  \\\n",
       "0    4488     1.19   0  北海道   0.107619  0.573714  0.318667        1.005929   \n",
       "1    4952     1.28   1  青森県   0.106742  0.560995  0.333066        1.066667   \n",
       "2    5282     1.39   1  岩手県   0.111654  0.557457  0.330888        1.076190   \n",
       "3    5702     1.27   1  宮城県   0.117953  0.599306  0.282741        1.056680   \n",
       "4    5274     1.31   1  秋田県   0.098344  0.530021  0.371636        1.068493   \n",
       "\n",
       "   インターネット利用者の割合  \n",
       "0           88.4  \n",
       "1           80.0  \n",
       "2           85.9  \n",
       "3           86.2  \n",
       "4           82.8  "
      ]
     },
     "execution_count": 2,
     "metadata": {},
     "output_type": "execute_result"
    }
   ],
   "source": [
    "import pandas as pd\n",
    "from sklearn.tree import DecisionTreeClassifier\n",
    "import sklearn.model_selection\n",
    "\n",
    "X = pd.read_excel(\"data/chapter07_exercise.xlsx\")\n",
    "X.head()"
   ]
  },
  {
   "cell_type": "code",
   "execution_count": 3,
   "id": "bc1466bf-ff07-4411-be9e-d212eccf852d",
   "metadata": {},
   "outputs": [
    {
     "data": {
      "text/plain": [
       "47"
      ]
     },
     "execution_count": 3,
     "metadata": {},
     "output_type": "execute_result"
    }
   ],
   "source": [
    "len(X)"
   ]
  },
  {
   "cell_type": "markdown",
   "id": "c05d9758-26ab-44b6-a9f7-cc3760f1e8dc",
   "metadata": {},
   "source": [
    "# 問2\n",
    "\n",
    "29行目と34行目（なぜなら0から始まるので）が評価用データになります。"
   ]
  },
  {
   "cell_type": "code",
   "execution_count": 5,
   "id": "44610046-5208-41a4-81a0-679690a743f5",
   "metadata": {},
   "outputs": [],
   "source": [
    "y = X[\"地方\"]\n",
    "z = X[\"都道府県\"]\n",
    "\n",
    "X2 = X.copy().drop(columns=[\"地方\", \"都道府県\"], axis=1)"
   ]
  },
  {
   "cell_type": "code",
   "execution_count": 9,
   "id": "8f17ce2e-93bf-4ca6-9e47-ab42adc6f325",
   "metadata": {},
   "outputs": [
    {
     "name": "stdout",
     "output_type": "stream",
     "text": [
      "45\n",
      "2\n"
     ]
    }
   ],
   "source": [
    "[\n",
    "    X_train,\n",
    "    X_test,\n",
    "    y_train,\n",
    "    y_test\n",
    "] = sklearn.model_selection.train_test_split(X2, y, test_size=0.04, random_state=0)\n",
    "\n",
    "print(len(X_train))\n",
    "print(len(X_test))"
   ]
  },
  {
   "cell_type": "code",
   "execution_count": 10,
   "id": "4b4abed8-db7d-4a76-ac9c-9a319a1197f2",
   "metadata": {},
   "outputs": [
    {
     "data": {
      "text/html": [
       "<div>\n",
       "<style scoped>\n",
       "    .dataframe tbody tr th:only-of-type {\n",
       "        vertical-align: middle;\n",
       "    }\n",
       "\n",
       "    .dataframe tbody tr th {\n",
       "        vertical-align: top;\n",
       "    }\n",
       "\n",
       "    .dataframe thead th {\n",
       "        text-align: right;\n",
       "    }\n",
       "</style>\n",
       "<table border=\"1\" class=\"dataframe\">\n",
       "  <thead>\n",
       "    <tr style=\"text-align: right;\">\n",
       "      <th></th>\n",
       "      <th>世帯年間収入</th>\n",
       "      <th>合計特殊出生率</th>\n",
       "      <th>人口15歳未満比率</th>\n",
       "      <th>15～64歳比率</th>\n",
       "      <th>65歳以上比率</th>\n",
       "      <th>人口男女比率（20～39歳）</th>\n",
       "      <th>インターネット利用者の割合</th>\n",
       "    </tr>\n",
       "  </thead>\n",
       "  <tbody>\n",
       "    <tr>\n",
       "      <th>28</th>\n",
       "      <td>5452</td>\n",
       "      <td>1.22</td>\n",
       "      <td>0.118797</td>\n",
       "      <td>0.568421</td>\n",
       "      <td>0.313534</td>\n",
       "      <td>0.945736</td>\n",
       "      <td>89.3</td>\n",
       "    </tr>\n",
       "    <tr>\n",
       "      <th>33</th>\n",
       "      <td>5323</td>\n",
       "      <td>1.43</td>\n",
       "      <td>0.127675</td>\n",
       "      <td>0.578816</td>\n",
       "      <td>0.293509</td>\n",
       "      <td>1.083032</td>\n",
       "      <td>87.8</td>\n",
       "    </tr>\n",
       "  </tbody>\n",
       "</table>\n",
       "</div>"
      ],
      "text/plain": [
       "    世帯年間収入  合計特殊出生率  人口15歳未満比率  15～64歳比率   65歳以上比率  人口男女比率（20～39歳）  \\\n",
       "28    5452     1.22   0.118797  0.568421  0.313534        0.945736   \n",
       "33    5323     1.43   0.127675  0.578816  0.293509        1.083032   \n",
       "\n",
       "    インターネット利用者の割合  \n",
       "28           89.3  \n",
       "33           87.8  "
      ]
     },
     "execution_count": 10,
     "metadata": {},
     "output_type": "execute_result"
    }
   ],
   "source": [
    "X_test"
   ]
  },
  {
   "cell_type": "markdown",
   "id": "d0580b3e-1891-4c97-9cab-bfdb239df41c",
   "metadata": {},
   "source": [
    "# 問3\n",
    "\n",
    "評価用データの正解率は50%、学習用データの正解率は57.8%になります。"
   ]
  },
  {
   "cell_type": "code",
   "execution_count": 10,
   "id": "6e743416-73fd-456d-9cce-7a7739c454a5",
   "metadata": {},
   "outputs": [
    {
     "name": "stdout",
     "output_type": "stream",
     "text": [
      "正解率 50.0 %\n",
      "正解率 57.77777777777777 %\n"
     ]
    }
   ],
   "source": [
    "model = DecisionTreeClassifier(max_depth=2, random_state=0)\n",
    "model.fit(X_train, y_train)\n",
    "\n",
    "score_te = model.score(X_test, y_test)\n",
    "print(\"正解率\", score_te * 100, \"%\")\n",
    "\n",
    "score_tr = model.score(X_train, y_train)\n",
    "print(\"正解率\", score_tr * 100, \"%\")"
   ]
  }
 ],
 "metadata": {
  "kernelspec": {
   "display_name": "Python 3 (ipykernel)",
   "language": "python",
   "name": "python3"
  },
  "language_info": {
   "codemirror_mode": {
    "name": "ipython",
    "version": 3
   },
   "file_extension": ".py",
   "mimetype": "text/x-python",
   "name": "python",
   "nbconvert_exporter": "python",
   "pygments_lexer": "ipython3",
   "version": "3.11.1"
  }
 },
 "nbformat": 4,
 "nbformat_minor": 5
}
