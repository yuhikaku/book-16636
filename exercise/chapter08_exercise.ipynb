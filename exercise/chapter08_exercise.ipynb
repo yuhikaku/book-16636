{
 "cells": [
  {
   "cell_type": "markdown",
   "id": "05e620f1-fb02-4707-9e6b-492ddc55b975",
   "metadata": {},
   "source": [
    "# 問1\n",
    "\n",
    "前章の練習問題・問3では、`max_depth=2` と設定しましたが、評価用データの正解率は50%、学習用データの正解率は57.8%でした。そもそも学習用の正解率があまり高くないので、`max_depth` を増やしてみましょう。\n",
    "\n",
    "評価用データの正解率は50%、学習用データの正解率は84.4%です。学習用の正解率はそこそこですが、評価用の正解率はあまり高くありません。\n"
   ]
  },
  {
   "cell_type": "code",
   "execution_count": 4,
   "id": "2144eec9-ff98-4386-b92c-3ada2d5c6d75",
   "metadata": {},
   "outputs": [
    {
     "data": {
      "text/html": [
       "<div>\n",
       "<style scoped>\n",
       "    .dataframe tbody tr th:only-of-type {\n",
       "        vertical-align: middle;\n",
       "    }\n",
       "\n",
       "    .dataframe tbody tr th {\n",
       "        vertical-align: top;\n",
       "    }\n",
       "\n",
       "    .dataframe thead th {\n",
       "        text-align: right;\n",
       "    }\n",
       "</style>\n",
       "<table border=\"1\" class=\"dataframe\">\n",
       "  <thead>\n",
       "    <tr style=\"text-align: right;\">\n",
       "      <th></th>\n",
       "      <th>世帯年間収入</th>\n",
       "      <th>合計特殊出生率</th>\n",
       "      <th>地方</th>\n",
       "      <th>都道府県</th>\n",
       "      <th>人口15歳未満比率</th>\n",
       "      <th>15～64歳比率</th>\n",
       "      <th>65歳以上比率</th>\n",
       "      <th>人口男女比率（20～39歳）</th>\n",
       "      <th>インターネット利用者の割合</th>\n",
       "    </tr>\n",
       "  </thead>\n",
       "  <tbody>\n",
       "    <tr>\n",
       "      <th>0</th>\n",
       "      <td>4488</td>\n",
       "      <td>1.19</td>\n",
       "      <td>0</td>\n",
       "      <td>北海道</td>\n",
       "      <td>0.107619</td>\n",
       "      <td>0.573714</td>\n",
       "      <td>0.318667</td>\n",
       "      <td>1.005929</td>\n",
       "      <td>88.4</td>\n",
       "    </tr>\n",
       "    <tr>\n",
       "      <th>1</th>\n",
       "      <td>4952</td>\n",
       "      <td>1.28</td>\n",
       "      <td>1</td>\n",
       "      <td>青森県</td>\n",
       "      <td>0.106742</td>\n",
       "      <td>0.560995</td>\n",
       "      <td>0.333066</td>\n",
       "      <td>1.066667</td>\n",
       "      <td>80.0</td>\n",
       "    </tr>\n",
       "    <tr>\n",
       "      <th>2</th>\n",
       "      <td>5282</td>\n",
       "      <td>1.39</td>\n",
       "      <td>1</td>\n",
       "      <td>岩手県</td>\n",
       "      <td>0.111654</td>\n",
       "      <td>0.557457</td>\n",
       "      <td>0.330888</td>\n",
       "      <td>1.076190</td>\n",
       "      <td>85.9</td>\n",
       "    </tr>\n",
       "    <tr>\n",
       "      <th>3</th>\n",
       "      <td>5702</td>\n",
       "      <td>1.27</td>\n",
       "      <td>1</td>\n",
       "      <td>宮城県</td>\n",
       "      <td>0.117953</td>\n",
       "      <td>0.599306</td>\n",
       "      <td>0.282741</td>\n",
       "      <td>1.056680</td>\n",
       "      <td>86.2</td>\n",
       "    </tr>\n",
       "    <tr>\n",
       "      <th>4</th>\n",
       "      <td>5274</td>\n",
       "      <td>1.31</td>\n",
       "      <td>1</td>\n",
       "      <td>秋田県</td>\n",
       "      <td>0.098344</td>\n",
       "      <td>0.530021</td>\n",
       "      <td>0.371636</td>\n",
       "      <td>1.068493</td>\n",
       "      <td>82.8</td>\n",
       "    </tr>\n",
       "  </tbody>\n",
       "</table>\n",
       "</div>"
      ],
      "text/plain": [
       "   世帯年間収入  合計特殊出生率  地方 都道府県  人口15歳未満比率  15～64歳比率   65歳以上比率  人口男女比率（20～39歳）  \\\n",
       "0    4488     1.19   0  北海道   0.107619  0.573714  0.318667        1.005929   \n",
       "1    4952     1.28   1  青森県   0.106742  0.560995  0.333066        1.066667   \n",
       "2    5282     1.39   1  岩手県   0.111654  0.557457  0.330888        1.076190   \n",
       "3    5702     1.27   1  宮城県   0.117953  0.599306  0.282741        1.056680   \n",
       "4    5274     1.31   1  秋田県   0.098344  0.530021  0.371636        1.068493   \n",
       "\n",
       "   インターネット利用者の割合  \n",
       "0           88.4  \n",
       "1           80.0  \n",
       "2           85.9  \n",
       "3           86.2  \n",
       "4           82.8  "
      ]
     },
     "execution_count": 4,
     "metadata": {},
     "output_type": "execute_result"
    }
   ],
   "source": [
    "import pandas as pd\n",
    "from sklearn.tree import DecisionTreeClassifier\n",
    "import sklearn.model_selection\n",
    "\n",
    "X = pd.read_excel(\"data/chapter08_exercise.xlsx\")\n",
    "X.head()"
   ]
  },
  {
   "cell_type": "code",
   "execution_count": 6,
   "id": "eb10c31b-2bb7-4401-a6cd-d4e29e9850fc",
   "metadata": {},
   "outputs": [],
   "source": [
    "y = X[\"地方\"]\n",
    "z = X[\"都道府県\"]\n",
    "\n",
    "X2 = X.copy().drop(columns=[\"地方\", \"都道府県\"], axis=1)"
   ]
  },
  {
   "cell_type": "code",
   "execution_count": 8,
   "id": "92664f6e-7150-442c-8f1c-0de39c60dca0",
   "metadata": {},
   "outputs": [],
   "source": [
    "[\n",
    "    X_train,\n",
    "    X_test,\n",
    "    y_train,\n",
    "    y_test\n",
    "] = sklearn.model_selection.train_test_split(X2, y, test_size=0.04, random_state=0)"
   ]
  },
  {
   "cell_type": "code",
   "execution_count": 10,
   "id": "b25a0ed3-8768-401c-81a6-f45e6e7bf760",
   "metadata": {},
   "outputs": [
    {
     "name": "stdout",
     "output_type": "stream",
     "text": [
      "正解率 50.0 %\n",
      "正解率 84.44444444444444 %\n"
     ]
    }
   ],
   "source": [
    "model = DecisionTreeClassifier(max_depth=4, random_state=0)\n",
    "model.fit(X_train, y_train)\n",
    "\n",
    "score_te = model.score(X_test, y_test)\n",
    "print(\"正解率\", score_te * 100, \"%\")\n",
    "\n",
    "score_tr = model.score(X_train, y_train)\n",
    "print(\"正解率\", score_tr * 100, \"%\")"
   ]
  },
  {
   "cell_type": "markdown",
   "id": "49cefc6f-d52f-4e6d-b960-de5d08b6b614",
   "metadata": {},
   "source": [
    "# 問2\n",
    "\n",
    "評価用データの正解率は50%、学習用データの正解率は95.6%です。\n",
    "\n",
    "正解は、4:近畿、5:中国ですが、予想は、4:近畿、3:中部となり、半分しか正解していません。\n",
    "\n",
    "確かに決定木に比べると、ランダムフォレストは学習用の正解率が大幅に改善しています。しかし、評価用の正解率はあまり高くないままです。いわゆる過学習の状態になっています。\n"
   ]
  },
  {
   "cell_type": "code",
   "execution_count": 13,
   "id": "f05f124f-c638-4e0b-a46e-c82966fe7dfb",
   "metadata": {},
   "outputs": [
    {
     "name": "stdout",
     "output_type": "stream",
     "text": [
      "正解率 50.0 %\n",
      "正解率 95.55555555555556 %\n"
     ]
    }
   ],
   "source": [
    "from sklearn.ensemble import RandomForestClassifier\n",
    "\n",
    "model_rf = RandomForestClassifier(\n",
    "    n_estimators=50,\n",
    "    max_depth=4,\n",
    "    random_state=0\n",
    ")\n",
    "model_rf.fit(X_train, y_train)\n",
    "\n",
    "score_te = model_rf.score(X_test, y_test)\n",
    "print(\"正解率\", score_te * 100, \"%\")\n",
    "\n",
    "score_tr = model_rf.score(X_train, y_train)\n",
    "print(\"正解率\", score_tr * 100, \"%\")"
   ]
  },
  {
   "cell_type": "code",
   "execution_count": 14,
   "id": "25d83bf7-4ad8-4cd9-aa52-f9867e7641f9",
   "metadata": {},
   "outputs": [
    {
     "data": {
      "text/html": [
       "<div>\n",
       "<style scoped>\n",
       "    .dataframe tbody tr th:only-of-type {\n",
       "        vertical-align: middle;\n",
       "    }\n",
       "\n",
       "    .dataframe tbody tr th {\n",
       "        vertical-align: top;\n",
       "    }\n",
       "\n",
       "    .dataframe thead th {\n",
       "        text-align: right;\n",
       "    }\n",
       "</style>\n",
       "<table border=\"1\" class=\"dataframe\">\n",
       "  <thead>\n",
       "    <tr style=\"text-align: right;\">\n",
       "      <th></th>\n",
       "      <th>世帯年間収入</th>\n",
       "      <th>合計特殊出生率</th>\n",
       "      <th>人口15歳未満比率</th>\n",
       "      <th>15～64歳比率</th>\n",
       "      <th>65歳以上比率</th>\n",
       "      <th>人口男女比率（20～39歳）</th>\n",
       "      <th>インターネット利用者の割合</th>\n",
       "      <th>y_test</th>\n",
       "      <th>y予想</th>\n",
       "    </tr>\n",
       "  </thead>\n",
       "  <tbody>\n",
       "    <tr>\n",
       "      <th>28</th>\n",
       "      <td>5452</td>\n",
       "      <td>1.22</td>\n",
       "      <td>0.118797</td>\n",
       "      <td>0.568421</td>\n",
       "      <td>0.313534</td>\n",
       "      <td>0.945736</td>\n",
       "      <td>89.3</td>\n",
       "      <td>4</td>\n",
       "      <td>4</td>\n",
       "    </tr>\n",
       "    <tr>\n",
       "      <th>33</th>\n",
       "      <td>5323</td>\n",
       "      <td>1.43</td>\n",
       "      <td>0.127675</td>\n",
       "      <td>0.578816</td>\n",
       "      <td>0.293509</td>\n",
       "      <td>1.083032</td>\n",
       "      <td>87.8</td>\n",
       "      <td>5</td>\n",
       "      <td>3</td>\n",
       "    </tr>\n",
       "  </tbody>\n",
       "</table>\n",
       "</div>"
      ],
      "text/plain": [
       "    世帯年間収入  合計特殊出生率  人口15歳未満比率  15～64歳比率   65歳以上比率  人口男女比率（20～39歳）  \\\n",
       "28    5452     1.22   0.118797  0.568421  0.313534        0.945736   \n",
       "33    5323     1.43   0.127675  0.578816  0.293509        1.083032   \n",
       "\n",
       "    インターネット利用者の割合  y_test  y予想  \n",
       "28           89.3       4    4  \n",
       "33           87.8       5    3  "
      ]
     },
     "execution_count": 14,
     "metadata": {},
     "output_type": "execute_result"
    }
   ],
   "source": [
    "y_test_pred = model_rf.predict(X_test)\n",
    "\n",
    "test_results = pd.DataFrame({\n",
    "    \"y_test\": y_test,\n",
    "    \"y予想\": y_test_pred\n",
    "})\n",
    "\n",
    "test_results_all = pd.concat(\n",
    "    [X_test, test_results],\n",
    "    axis=1\n",
    ")\n",
    "test_results_all.head()"
   ]
  },
  {
   "cell_type": "markdown",
   "id": "ce81d7db-c756-4fd0-adde-c19aa0543591",
   "metadata": {},
   "source": [
    "# 問3\n",
    "\n",
    "今回は、学習用のデータが45と少ないことが低い正解率の一因と推測されます。45は学習に十分な数とは言えません。単年ではなく、複数年にすれば数が増えます。\n",
    "\n",
    "また、データの特徴量を変えることで正解率を上げられる可能性もあるでしょう。たとえば、インターネット利用者の割合と15~64歳比率や65歳以上比率のように、相関が強い特徴量があるからです。相関が強いと同じような情報しか提供できません。\n",
    "\n",
    "いずれにしても、学習用の正解率が高くても、評価用の正解率が今一つということがあるのを分かっていただけたでしょうか。予想は思っているより難しかったりするのです。\n"
   ]
  },
  {
   "cell_type": "code",
   "execution_count": 15,
   "id": "ce62c2df-26d3-4758-800e-35e51c5022a3",
   "metadata": {},
   "outputs": [
    {
     "data": {
      "text/html": [
       "<div>\n",
       "<style scoped>\n",
       "    .dataframe tbody tr th:only-of-type {\n",
       "        vertical-align: middle;\n",
       "    }\n",
       "\n",
       "    .dataframe tbody tr th {\n",
       "        vertical-align: top;\n",
       "    }\n",
       "\n",
       "    .dataframe thead th {\n",
       "        text-align: right;\n",
       "    }\n",
       "</style>\n",
       "<table border=\"1\" class=\"dataframe\">\n",
       "  <thead>\n",
       "    <tr style=\"text-align: right;\">\n",
       "      <th></th>\n",
       "      <th>世帯年間収入</th>\n",
       "      <th>合計特殊出生率</th>\n",
       "      <th>人口15歳未満比率</th>\n",
       "      <th>15～64歳比率</th>\n",
       "      <th>65歳以上比率</th>\n",
       "      <th>人口男女比率（20～39歳）</th>\n",
       "      <th>インターネット利用者の割合</th>\n",
       "    </tr>\n",
       "  </thead>\n",
       "  <tbody>\n",
       "    <tr>\n",
       "      <th>世帯年間収入</th>\n",
       "      <td>1.000000</td>\n",
       "      <td>-0.304883</td>\n",
       "      <td>-0.155290</td>\n",
       "      <td>0.476142</td>\n",
       "      <td>-0.360335</td>\n",
       "      <td>0.600375</td>\n",
       "      <td>0.321421</td>\n",
       "    </tr>\n",
       "    <tr>\n",
       "      <th>合計特殊出生率</th>\n",
       "      <td>-0.304883</td>\n",
       "      <td>1.000000</td>\n",
       "      <td>0.688812</td>\n",
       "      <td>-0.431164</td>\n",
       "      <td>0.134164</td>\n",
       "      <td>-0.019069</td>\n",
       "      <td>-0.366069</td>\n",
       "    </tr>\n",
       "    <tr>\n",
       "      <th>人口15歳未満比率</th>\n",
       "      <td>-0.155290</td>\n",
       "      <td>0.688812</td>\n",
       "      <td>1.000000</td>\n",
       "      <td>0.209820</td>\n",
       "      <td>-0.529982</td>\n",
       "      <td>-0.241309</td>\n",
       "      <td>0.218256</td>\n",
       "    </tr>\n",
       "    <tr>\n",
       "      <th>15～64歳比率</th>\n",
       "      <td>0.476142</td>\n",
       "      <td>-0.431164</td>\n",
       "      <td>0.209820</td>\n",
       "      <td>1.000000</td>\n",
       "      <td>-0.940195</td>\n",
       "      <td>0.150902</td>\n",
       "      <td>0.756309</td>\n",
       "    </tr>\n",
       "    <tr>\n",
       "      <th>65歳以上比率</th>\n",
       "      <td>-0.360335</td>\n",
       "      <td>0.134164</td>\n",
       "      <td>-0.529982</td>\n",
       "      <td>-0.940195</td>\n",
       "      <td>1.000000</td>\n",
       "      <td>-0.045300</td>\n",
       "      <td>-0.730579</td>\n",
       "    </tr>\n",
       "  </tbody>\n",
       "</table>\n",
       "</div>"
      ],
      "text/plain": [
       "             世帯年間収入   合計特殊出生率  人口15歳未満比率  15～64歳比率   65歳以上比率  人口男女比率（20～39歳）  \\\n",
       "世帯年間収入     1.000000 -0.304883  -0.155290  0.476142 -0.360335        0.600375   \n",
       "合計特殊出生率   -0.304883  1.000000   0.688812 -0.431164  0.134164       -0.019069   \n",
       "人口15歳未満比率 -0.155290  0.688812   1.000000  0.209820 -0.529982       -0.241309   \n",
       "15～64歳比率   0.476142 -0.431164   0.209820  1.000000 -0.940195        0.150902   \n",
       "65歳以上比率   -0.360335  0.134164  -0.529982 -0.940195  1.000000       -0.045300   \n",
       "\n",
       "           インターネット利用者の割合  \n",
       "世帯年間収入          0.321421  \n",
       "合計特殊出生率        -0.366069  \n",
       "人口15歳未満比率       0.218256  \n",
       "15～64歳比率        0.756309  \n",
       "65歳以上比率        -0.730579  "
      ]
     },
     "execution_count": 15,
     "metadata": {},
     "output_type": "execute_result"
    }
   ],
   "source": [
    "cor = X2.corr()\n",
    "df = pd.DataFrame(cor)\n",
    "df.head()"
   ]
  },
  {
   "cell_type": "markdown",
   "id": "1c2c8d4f-3c3c-4af8-bce8-0672f0aba461",
   "metadata": {},
   "source": [
    "特徴量の間の相関を調べて、その結果をエクセルで出力します。 "
   ]
  },
  {
   "cell_type": "code",
   "execution_count": 16,
   "id": "1e2cd0fa-52e7-44c0-9b07-d4bb79ef5969",
   "metadata": {},
   "outputs": [],
   "source": [
    "df.to_excel(\"data/output.xlsx\")"
   ]
  },
  {
   "cell_type": "markdown",
   "id": "b9a272cd",
   "metadata": {},
   "source": [
    "`df.to_excel`に保存先のパスを指定することでxlsx形式でデータフレームをエクスポートできます。ここで紹介しているコードを実行した場合，サブフォルダ`data`の中に`chapter08_output.xlsx`として保存されます（保存時にエラーが出る場合は，必要なライブラリがインストールされていないことが考えられます。この場合はopenpyxlなどのライブラリをインストールしてみましょう）。"
   ]
  }
 ],
 "metadata": {
  "kernelspec": {
   "display_name": "Python 3 (ipykernel)",
   "language": "python",
   "name": "python3"
  },
  "language_info": {
   "codemirror_mode": {
    "name": "ipython",
    "version": 3
   },
   "file_extension": ".py",
   "mimetype": "text/x-python",
   "name": "python",
   "nbconvert_exporter": "python",
   "pygments_lexer": "ipython3",
   "version": "3.11.1"
  }
 },
 "nbformat": 4,
 "nbformat_minor": 5
}
